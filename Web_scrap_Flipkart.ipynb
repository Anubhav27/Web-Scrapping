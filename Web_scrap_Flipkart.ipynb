{
 "cells": [
  {
   "cell_type": "code",
   "execution_count": 1,
   "id": "dfff797f",
   "metadata": {},
   "outputs": [],
   "source": [
    "import os \n",
    "from selenium import webdriver\n",
    "from bs4 import BeautifulSoup\n",
    "import time\n",
    "import csv\n",
    "import pandas as pd"
   ]
  },
  {
   "cell_type": "code",
   "execution_count": 2,
   "id": "c4c32383",
   "metadata": {},
   "outputs": [],
   "source": [
    "driver_path= os.path.join(os.getcwd(),'chromedriver')\n",
    "driver= webdriver.Chrome(driver_path)"
   ]
  },
  {
   "cell_type": "code",
   "execution_count": 3,
   "id": "5a01050b",
   "metadata": {},
   "outputs": [
    {
     "name": "stdout",
     "output_type": "stream",
     "text": [
      "Enter search querydesktop pc\n",
      "https://www.flipkart.com/search?q=desktop%20pc&otracker=search&otracker1=search&marketplace=FLIPKART&as-show=on&as=off&page=1\n"
     ]
    }
   ],
   "source": [
    "query=input('Enter search query')\n",
    "search=query.replace(\" \",\"%20\")\n",
    "url = 'https://www.flipkart.com/search?q=' + search + '&otracker=search&otracker1=search&marketplace=FLIPKART&as-show=on&as=off&page='\n",
    "my_url=url+'1'\n",
    "print(my_url)"
   ]
  },
  {
   "cell_type": "code",
   "execution_count": 4,
   "id": "00a73955",
   "metadata": {},
   "outputs": [],
   "source": [
    "driver.get(my_url)"
   ]
  },
  {
   "cell_type": "code",
   "execution_count": 5,
   "id": "c213f70c",
   "metadata": {},
   "outputs": [],
   "source": [
    "content = driver.page_source\n",
    "soup = BeautifulSoup(content)"
   ]
  },
  {
   "cell_type": "code",
   "execution_count": 6,
   "id": "d363e919",
   "metadata": {},
   "outputs": [
    {
     "name": "stdout",
     "output_type": "stream",
     "text": [
      "desktop pc\n",
      "https://www.flipkart.com/search?q=desktop%20pc&otracker=search&otracker1=search&marketplace=FLIPKART&as-show=on&as=off&page=1\n",
      "https://www.flipkart.com/search?q=desktop%20pc&otracker=search&otracker1=search&marketplace=FLIPKART&as-show=on&as=off&page=2\n",
      "https://www.flipkart.com/search?q=desktop%20pc&otracker=search&otracker1=search&marketplace=FLIPKART&as-show=on&as=off&page=3\n",
      "https://www.flipkart.com/search?q=desktop%20pc&otracker=search&otracker1=search&marketplace=FLIPKART&as-show=on&as=off&page=4\n",
      "['Lenovo Ideacentre Celeron Dual Core (4 GB DDR4/1 TB/Fre...', 'Lenovo ideacentre Core i3 (10th Gen) (8 GB DDR4/512 GB ...', 'Lenovo Ideacentre Pentium Quad Core (4 GB DDR4/1 TB/Win...', 'ZOONIS CORE 2 DUE Core 2 Duo (4 GB DDR3/500 GB/120 GB S...', 'ASUS AIO M241DAK Athlon Dual Core (4 GB DDR4/1 TB/Windo...', 'DZAB All-in-one Core i3 (4 GB DDR3/500 GB/Windows 10 Ho...', 'Assembled 1ST RC-IT-SOLUTIONS Core 2 Duo (4 GB DDR2/320...', 'HP All in One PC Core i5 (9th Gen) (8 GB DDR4/1 TB/Free...', 'Gandiva Professional Desktop Core i5 (8 GB DDR3/500 GB/...', 'HP Ryzen 5 (8 GB DDR4/500 GB/Windows 10 Home/23.8 Inch ...', 'ZOONIS BUDGET Core 2 Duo (4 GB DDR3/500 GB/Windows 7 Ho...', 'HP All-in-One 21 Celeron Dual Core (4 GB DDR4/1 TB/Wind...', 'APPLE M1 (8 GB Unified/256 GB SSD/Mac OS Big Sur/24 Inc...', 'Gandiva 530 Core i3 (4 GB DDR3/320 GB/Windows 10 Pro/15...', 'APPLE M1 (8 GB Unified/256 GB SSD/Mac OS Big Sur/24 Inc...', 'APPLE M1 (8 GB Unified/512 GB SSD/Mac OS Big Sur/24 Inc...', 'Gandiva Professional Core i3 (8 GB DDR3/Windows 10 Pro/...', 'brozzo ALL IN ONE Core 2 Duo (4 GB DDR3/320 GB/Windows ...', 'HP All-in-One 24-df0061 Core i5 (10th Gen) (8 GB DDR4/1...', 'DGCAM AllInOne Core i3 (8 GB DDR3/500 GB/Windows 10 Hom...', 'Gandiva Economical Core 2 Duo (4 GB DDR2/500 GB/Windows...', 'ASUS Core i5 (11th Gen) (4 GB DDR4/1 TB/256 GB SSD/Wind...', 'ZOONIS intel Core 2 Duo 3.0 Core 2 Duo (4 GB DDR2/500 G...', 'Assembled ALL IN PC Core i5 (4 GB DDR3/500 GB/Windows 1...', 'Gandiva Professional Core i3 (8 GB DDR4/Windows 10 Pro/...', 'Gandiva Professional Core i5 (4 GB DDR3/500 GB/Windows ...', 'TECH- Assemblers INTEL Core i5 (8 GB DDR3/500 GB/Window...', 'HP G5 Core i3 (4 GB DDR4/1 TB/Windows 10 Pro/20 Inch Sc...', 'brozzo I3 Core i3 (4 GB DDR3/500 GB/Windows 10 Pro/18.5...', 'Assembled 5 2310 Core i5 (8 GB DDR3/500 GB/Windows 10 P...', 'Assembled 8GB RAM, 1TB HDD, Free DOS Core i7 (10th Gen)...', 'Gandiva Professional Core i3 (4 GB DDR3/2 TB/Windows 10...', 'Gandiva Professional Core i3 (8 GB DDR3/Windows 10 Pro/...', 'Gandiva Professional Core i3 (8 GB DDR3/1 TB/Windows 10...', 'iball Ultra slim Baby Series Core i7 (8 GB DDR3/2 TB/Wi...', 'ZOONIS BUDGET SERIES Core i5 (6 GB DDR3/500 GB/Windows ...', 'ZOONIS I5 Core i5 (6 GB DDR3/500 GB/Windows 10 Pro/15.6...', 'brozzo C2D M15 RAM2GB Core 2 Duo (2 GB DDR3/500 GB/Wind...', 'iball Ultra Slim 342 Core i7 (16 GB DDR4/1 TB/Windows 1...', 'HP All-in-One 24-df Ryzen 3 Dual Core (8 GB DDR4/1 TB/2...']\n"
     ]
    }
   ],
   "source": [
    "# if query == \"mobile\" or \"mobiles\"\n",
    "    ##getting data of mobiles items and laptop\n",
    "#spandiv= soup.find(\"div\",attrs={'class':'_1AtVbE col-12-12'})\n",
    "import requests\n",
    "\n",
    "if (query == \"mobile\") or (query ==\"laptop\"):\n",
    "    print(query)\n",
    "    span=soup.find('div', attrs={'class':'_2MImiq'})\n",
    "    try:\n",
    "        pages=int(span.text[10:13])\n",
    "    except:\n",
    "        pages=int(span.text[10:12])\n",
    "    description=[]\n",
    "    products=[] #List to store name of the product\n",
    "    prices=[] #List to store price of the product\n",
    "    ratings=[]#List to store rating of the product\n",
    "    images=[]\n",
    "    image_link=[]\n",
    "    image_download=[]\n",
    "    discount_price=[]\n",
    "    discount_prices=[]\n",
    "\n",
    "    description_txt=[]\n",
    "    for i in range(1,15):\n",
    "        URL=url+str(i)\n",
    "        r = requests.get(URL)\n",
    "        soup = BeautifulSoup(r.content, 'html5lib')\n",
    "        for a in soup.findAll('a',href=True, attrs={'class':'_1fQZEK'}):\n",
    "                name=a.find('div', attrs={'class':'_4rR01T'})\n",
    "                price=a.find('div', attrs={'class':'_30jeq3 _1_WHN1'})\n",
    "                discount_price=a.find('div', attrs={'class':\"_3I9_wc _27UcVY\"})\n",
    "                desc = a.find('ul', attrs={'class':'_1xgFaf'})\n",
    "                desc1 = desc.find('li', attrs={'class':'rgWa7D'}).text\n",
    "                desc1 =str(desc1)\n",
    "                images = a.find('img', attrs={'class':'_396cs4 _3exPp9'})\n",
    "                image_link = images[\"src\"]\n",
    "                products.append(name.text)\n",
    "                prices.append(price.text)\n",
    "                discount_prices.append(discount_price)\n",
    "                description.append(desc1)\n",
    "                image_download.append(image_link)\n",
    "    print(len(description))\n",
    "    print(len(products))\n",
    "    print(type(image_download))\n",
    "\n",
    "elif(query == \"desktop pc\"):\n",
    "    print(query)\n",
    "    span=soup.find('div', attrs={'class':'_2MImiq'})\n",
    "    try:\n",
    "        pages=int(span.text[10:13])\n",
    "    except:\n",
    "        pages=int(span.text[10:12])\n",
    "    description=[]\n",
    "    products=[] #List to store name of the product\n",
    "    prices=[] #List to store price of the product\n",
    "    ratings=[]#List to store rating of the product\n",
    "    image_links=[]\n",
    "    image_download=[]\n",
    "    discount_price=[]\n",
    "    discount_prices=[]\n",
    "    for i in range(1,5):\n",
    "        URL=url+str(i)\n",
    "        print(URL)\n",
    "        r = requests.get(URL)\n",
    "        soup = BeautifulSoup(r.content, 'html5lib')\n",
    "        for a in soup.findAll('div', attrs={'class':'_13oc-S'}):\n",
    "            name=a.find('a', attrs={'class':'s1Q9rs'})\n",
    "            price=a.find('div', attrs={'class':'_30jeq3'})\n",
    "            discount_price=a.find('div', attrs={'class':'_3I9_wc'})\n",
    "           # rating=a.find('div', attrs={'class':'_3LWZlK'})\n",
    "            desc = a.find('div', attrs={'class':'_3Djpdu'})\n",
    "            #description = a.find('li', attrs={'class':'rgWa7D'})\n",
    "            #description = description[\"li\"]\n",
    "            #hearder_link_tags = description.find_all(\"li\")\n",
    "            #des = description[\"li\"]\n",
    "            images = a.find('img', attrs={'class':'_396cs4 _3exPp9'})\n",
    "            image_link = images[\"src\"]\n",
    "            products.append(name.text)\n",
    "            prices.append(price.text)\n",
    "            discount_prices.append(discount_price.text)\n",
    "           # ratings.append(rating.text)\n",
    "            description.append(desc.text)\n",
    "            image_download.append(image_link)\n",
    "    print(products)\n",
    "        \n",
    "else:\n",
    "    print(\"Please Enter a valid query \")\n",
    "    "
   ]
  },
  {
   "cell_type": "code",
   "execution_count": 7,
   "id": "42cc2aad",
   "metadata": {},
   "outputs": [],
   "source": [
    "df = pd.DataFrame({'Product Name':products,'Price':prices,'Image Link':image_link,'Desciption':description,'Discount':discount_prices})\n",
    "df.to_csv('products_'+query+'.csv', index=False, encoding='utf-8')"
   ]
  },
  {
   "cell_type": "code",
   "execution_count": 8,
   "id": "87c200ad",
   "metadata": {},
   "outputs": [],
   "source": [
    "import shutil, sys\n",
    "#path = os.path.join(parent_dir, directory)\n",
    "try:\n",
    "    os.mkdir(\"Flipkart_images/\"+query)\n",
    "    for idx, links in enumerate(image_download):\n",
    "    #for links in range(1,image_download):\n",
    "        filename=links.split('-')[-3]\n",
    "        r = requests.get(image_download[idx], stream=True) #Get request on full_url\n",
    "        if r.status_code == 200:                     #200 status code = OK\n",
    "           with open(\"Flipkart_images/\"+query+\"/{}.png\".format(filename+str(idx)), 'wb') as f: \n",
    "              r.raw.decode_content = True\n",
    "              shutil.copyfileobj(r.raw, f)\n",
    "except:\n",
    "    for idx, links in enumerate(image_download):\n",
    "    #for links in range(1,image_download):\n",
    "        filename=links.split('-')[-3]\n",
    "        r = requests.get(image_download[idx], stream=True) #Get request on full_url\n",
    "        if r.status_code == 200:                     #200 status code = OK\n",
    "           with open(\"Flipkart_images/\"+query+\"/{}.png\".format(filename+str(idx)), 'wb') as f: \n",
    "              r.raw.decode_content = True\n",
    "              shutil.copyfileobj(r.raw, f)"
   ]
  },
  {
   "cell_type": "code",
   "execution_count": 23,
   "id": "1798381d",
   "metadata": {},
   "outputs": [
    {
     "data": {
      "text/plain": [
       "'narzo-30-5g-rmx3242-realme-original-imag45yjdkgxddvh.jpeg?q=70'"
      ]
     },
     "execution_count": 23,
     "metadata": {},
     "output_type": "execute_result"
    }
   ],
   "source": [
    "filename"
   ]
  },
  {
   "cell_type": "code",
   "execution_count": 26,
   "id": "d3aaf0eb",
   "metadata": {},
   "outputs": [
    {
     "data": {
      "text/plain": [
       "'realme'"
      ]
     },
     "execution_count": 26,
     "metadata": {},
     "output_type": "execute_result"
    }
   ],
   "source": [
    "links.split('-')[-3]"
   ]
  },
  {
   "cell_type": "code",
   "execution_count": 59,
   "id": "246e2a47",
   "metadata": {},
   "outputs": [],
   "source": [
    "\n",
    "\n"
   ]
  },
  {
   "cell_type": "code",
   "execution_count": null,
   "id": "d0a117e0",
   "metadata": {},
   "outputs": [],
   "source": []
  },
  {
   "cell_type": "code",
   "execution_count": null,
   "id": "5f562d8f",
   "metadata": {},
   "outputs": [],
   "source": []
  },
  {
   "cell_type": "code",
   "execution_count": null,
   "id": "3dbf66d2",
   "metadata": {},
   "outputs": [],
   "source": []
  },
  {
   "cell_type": "code",
   "execution_count": null,
   "id": "b4757a6a",
   "metadata": {},
   "outputs": [],
   "source": []
  },
  {
   "cell_type": "code",
   "execution_count": null,
   "id": "d022420c",
   "metadata": {},
   "outputs": [],
   "source": []
  }
 ],
 "metadata": {
  "kernelspec": {
   "display_name": "Python 3",
   "language": "python",
   "name": "python3"
  },
  "language_info": {
   "codemirror_mode": {
    "name": "ipython",
    "version": 3
   },
   "file_extension": ".py",
   "mimetype": "text/x-python",
   "name": "python",
   "nbconvert_exporter": "python",
   "pygments_lexer": "ipython3",
   "version": "3.8.8"
  }
 },
 "nbformat": 4,
 "nbformat_minor": 5
}
